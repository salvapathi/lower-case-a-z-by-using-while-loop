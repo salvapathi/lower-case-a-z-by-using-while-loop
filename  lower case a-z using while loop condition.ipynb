{
 "cells": [
  {
   "cell_type": "code",
   "execution_count": 22,
   "id": "44898486",
   "metadata": {},
   "outputs": [
    {
     "name": "stdout",
     "output_type": "stream",
     "text": [
      " ******\n",
      "*      *\n",
      "*      *\n",
      "*      *\n",
      " ****** * \n",
      "          **\n"
     ]
    }
   ],
   "source": [
    "#a\n",
    "a=1\n",
    "while a<=6:\n",
    "    if a==1:\n",
    "        print(\" ******\")\n",
    "    elif a==2:\n",
    "        print(\"*      *\")\n",
    "    elif a==3:\n",
    "        print(\"*      *\")\n",
    "    elif a==4:\n",
    "        print(\"*      *\")\n",
    "    elif a==5:\n",
    "        print(\" ****** * \")\n",
    "    elif a==6:\n",
    "        print(\"          **\")\n",
    "    a=a+1"
   ]
  },
  {
   "cell_type": "code",
   "execution_count": 50,
   "id": "6e01b14e",
   "metadata": {},
   "outputs": [
    {
     "name": "stdout",
     "output_type": "stream",
     "text": [
      "*\n",
      "*\n",
      "*\n",
      "******\n",
      "*      *\n",
      "*      *\n",
      "*      *\n",
      " ******  \n"
     ]
    }
   ],
   "source": [
    "a=1\n",
    "while a<=8:\n",
    "    if a==1:\n",
    "        print(\"*\")\n",
    "    elif a==2:\n",
    "        print(\"*\")\n",
    "    elif a==3:\n",
    "        print(\"*\")\n",
    "    elif a==4:\n",
    "        print(\"******\")\n",
    "    elif a==5:\n",
    "        print(\"*      *\")\n",
    "    elif a==6:\n",
    "        print(\"*      *\")\n",
    "    elif a==7:\n",
    "        print(\"*      *\")\n",
    "    elif a==8:\n",
    "        print(\" ******  \")\n",
    "    a=a+1"
   ]
  },
  {
   "cell_type": "code",
   "execution_count": 31,
   "id": "f40e7058",
   "metadata": {},
   "outputs": [
    {
     "name": "stdout",
     "output_type": "stream",
     "text": [
      " *****\n",
      "*      \n",
      "*      \n",
      "*      \n",
      " *****  \n"
     ]
    }
   ],
   "source": [
    "a=1\n",
    "while a<=5:\n",
    "    if a==1:\n",
    "        print(\" *****\")\n",
    "    elif a==2:\n",
    "        print(\"*      \")\n",
    "    elif a==3:\n",
    "        print(\"*      \")\n",
    "    elif a==4:\n",
    "        print(\"*      \")\n",
    "    elif a==5:\n",
    "        print(\" *****  \")\n",
    "    a=a+1"
   ]
  },
  {
   "cell_type": "code",
   "execution_count": 54,
   "id": "48b74070",
   "metadata": {},
   "outputs": [
    {
     "name": "stdout",
     "output_type": "stream",
     "text": [
      "      *\n",
      "      *\n",
      "      *\n",
      "*******\n",
      "*     *\n",
      "*     *\n",
      "*     *\n",
      " ******  \n"
     ]
    }
   ],
   "source": [
    "a=1\n",
    "while a<=8:\n",
    "    if a==1:\n",
    "        print(\"      *\")\n",
    "    elif a==2:\n",
    "        print(\"      *\")\n",
    "    elif a==3:\n",
    "        print(\"      *\")\n",
    "    elif a==4:\n",
    "        print(\"*******\")\n",
    "    elif a==5:\n",
    "        print(\"*     *\")\n",
    "    elif a==6:\n",
    "        print(\"*     *\")\n",
    "    elif a==7:\n",
    "        print(\"*     *\")\n",
    "    elif a==8:\n",
    "        print(\" ******  \")\n",
    "    a=a+1"
   ]
  },
  {
   "cell_type": "code",
   "execution_count": 44,
   "id": "ba67f84b",
   "metadata": {},
   "outputs": [
    {
     "name": "stdout",
     "output_type": "stream",
     "text": [
      "* * * * * *\n",
      "*         *\n",
      "* * * * * *\n",
      "*\n",
      "*      \n",
      "* * * * * *      \n",
      "       \n",
      "   \n"
     ]
    }
   ],
   "source": [
    "a=1\n",
    "while a<=8:\n",
    "    if a==1:\n",
    "        print(\"* * * * * *\")\n",
    "    elif a==2:\n",
    "        print(\"*         *\")\n",
    "    elif a==3:\n",
    "        print(\"* * * * * *\")\n",
    "    elif a==4:\n",
    "        print(\"*\")\n",
    "    elif a==5:\n",
    "        print(\"*      \")\n",
    "    elif a==6:\n",
    "        print(\"* * * * * *      \")\n",
    "    elif a==7:\n",
    "        print(\"       \")\n",
    "    elif a==8:\n",
    "        print(\"   \")\n",
    "    a=a+1"
   ]
  },
  {
   "cell_type": "code",
   "execution_count": 45,
   "id": "7bbd335b",
   "metadata": {},
   "outputs": [
    {
     "name": "stdout",
     "output_type": "stream",
     "text": [
      "  * * * * *\n",
      "*         \n",
      "* * * * * *\n",
      "*\n",
      "*      \n",
      "*       \n",
      "       \n",
      "   \n"
     ]
    }
   ],
   "source": [
    "a=1\n",
    "while a<=8:\n",
    "    if a==1:\n",
    "        print(\"  * * * * *\")\n",
    "    elif a==2:\n",
    "        print(\"*         \")\n",
    "    elif a==3:\n",
    "        print(\"* * * * * *\")\n",
    "    elif a==4:\n",
    "        print(\"*\")\n",
    "    elif a==5:\n",
    "        print(\"*      \")\n",
    "    elif a==6:\n",
    "        print(\"*       \")\n",
    "    elif a==7:\n",
    "        print(\"       \")\n",
    "    elif a==8:\n",
    "        print(\"   \")\n",
    "    a=a+1"
   ]
  },
  {
   "cell_type": "code",
   "execution_count": 49,
   "id": "4d8a6a34",
   "metadata": {},
   "outputs": [
    {
     "name": "stdout",
     "output_type": "stream",
     "text": [
      "* * * * * *\n",
      "*          *\n",
      "* * * * * *\n",
      "          *\n",
      "          *\n",
      "     * * *\n",
      "       \n",
      "   \n"
     ]
    }
   ],
   "source": [
    "#g\n",
    "a=1\n",
    "while a<=8:\n",
    "    if a==1:\n",
    "        print(\"* * * * * *\")\n",
    "    elif a==2:\n",
    "        print(\"*          *\")\n",
    "    elif a==3:\n",
    "        print(\"* * * * * *\")\n",
    "    elif a==4:\n",
    "        print(\"          *\")\n",
    "    elif a==5:\n",
    "        print(\"          *\")\n",
    "    elif a==6:\n",
    "        print(\"     * * *\")\n",
    "    elif a==7:\n",
    "        print(\"       \")\n",
    "    elif a==8:\n",
    "        print(\"   \")\n",
    "    a=a+1\n"
   ]
  },
  {
   "cell_type": "code",
   "execution_count": 52,
   "id": "09db7682",
   "metadata": {},
   "outputs": [
    {
     "name": "stdout",
     "output_type": "stream",
     "text": [
      "*\n",
      "*\n",
      "*\n",
      "******\n",
      "*      *\n",
      "*      *\n",
      "*      *\n",
      "  \n"
     ]
    }
   ],
   "source": [
    "a=1\n",
    "while a<=8:\n",
    "    if a==1:\n",
    "        print(\"*\")\n",
    "    elif a==2:\n",
    "        print(\"*\")\n",
    "    elif a==3:\n",
    "        print(\"*\")\n",
    "    elif a==4:\n",
    "        print(\"******\")\n",
    "    elif a==5:\n",
    "        print(\"*      *\")\n",
    "    elif a==6:\n",
    "        print(\"*      *\")\n",
    "    elif a==7:\n",
    "        print(\"*      *\")\n",
    "    elif a==8:\n",
    "        print(\"  \")\n",
    "    a=a+1"
   ]
  },
  {
   "cell_type": "code",
   "execution_count": 53,
   "id": "d59f781e",
   "metadata": {},
   "outputs": [
    {
     "name": "stdout",
     "output_type": "stream",
     "text": [
      "*\n",
      "\n",
      "*\n",
      "*\n",
      "*      \n",
      "*      \n",
      "*      \n",
      "  \n"
     ]
    }
   ],
   "source": [
    "a=1\n",
    "while a<=8:\n",
    "    if a==1:\n",
    "        print(\"*\")\n",
    "    elif a==2:\n",
    "        print(\"\")\n",
    "    elif a==3:\n",
    "        print(\"*\")\n",
    "    elif a==4:\n",
    "        print(\"*\")\n",
    "    elif a==5:\n",
    "        print(\"*      \")\n",
    "    elif a==6:\n",
    "        print(\"*      \")\n",
    "    elif a==7:\n",
    "        print(\"*      \")\n",
    "    elif a==8:\n",
    "        print(\"  \")\n",
    "    a=a+1"
   ]
  },
  {
   "cell_type": "code",
   "execution_count": 56,
   "id": "eacf3448",
   "metadata": {},
   "outputs": [
    {
     "name": "stdout",
     "output_type": "stream",
     "text": [
      "         *\n",
      "\n",
      "         *\n",
      "         *\n",
      "         *      \n",
      "         *      \n",
      "*        * \n",
      "  * * * \n"
     ]
    }
   ],
   "source": [
    "a=1\n",
    "while a<=8:\n",
    "    if a==1:\n",
    "        print(\"         *\")\n",
    "    elif a==2:\n",
    "        print(\"\")\n",
    "    elif a==3:\n",
    "        print(\"         *\")\n",
    "    elif a==4:\n",
    "        print(\"         *\")\n",
    "    elif a==5:\n",
    "        print(\"         *      \")\n",
    "    elif a==6:\n",
    "        print(\"         *      \")\n",
    "    elif a==7:\n",
    "    \n",
    "        print(\"*        * \")\n",
    "    elif a==8:\n",
    "        print(\"  * * * \")\n",
    "    a=a+1"
   ]
  },
  {
   "cell_type": "code",
   "execution_count": 57,
   "id": "e2f9a074",
   "metadata": {},
   "outputs": [
    {
     "name": "stdout",
     "output_type": "stream",
     "text": [
      "k   k\n",
      "k k\n",
      "kk\n",
      "k k\n",
      "k   k\n"
     ]
    }
   ],
   "source": [
    "a=1\n",
    "while a<=5:\n",
    "    if a==1:\n",
    "        print(\"k   k\")\n",
    "    elif a==2:\n",
    "        print(\"k k\")\n",
    "    elif a==3:\n",
    "        print(\"kk\")\n",
    "    elif a==4:\n",
    "        print(\"k k\")\n",
    "    elif a==5:\n",
    "        print(\"k   k\")\n",
    "    a=a+1\n",
    "    \n",
    "       \n",
    "       "
   ]
  },
  {
   "cell_type": "code",
   "execution_count": 58,
   "id": "71af1c80",
   "metadata": {},
   "outputs": [
    {
     "name": "stdout",
     "output_type": "stream",
     "text": [
      "*\n",
      "*\n",
      "*\n",
      "*\n",
      "*      \n",
      "*      \n",
      "*      \n",
      "  \n"
     ]
    }
   ],
   "source": [
    "a=1\n",
    "while a<=8:\n",
    "    if a==1:\n",
    "        print(\"*\")\n",
    "    elif a==2:\n",
    "        print(\"*\")\n",
    "    elif a==3:\n",
    "        print(\"*\")\n",
    "    elif a==4:\n",
    "        print(\"*\")\n",
    "    elif a==5:\n",
    "        print(\"*      \")\n",
    "    elif a==6:\n",
    "        print(\"*      \")\n",
    "    elif a==7:\n",
    "        print(\"*      \")\n",
    "    elif a==8:\n",
    "        print(\"  \")\n",
    "    a=a+1"
   ]
  },
  {
   "cell_type": "code",
   "execution_count": 59,
   "id": "d09deb23",
   "metadata": {},
   "outputs": [
    {
     "name": "stdout",
     "output_type": "stream",
     "text": [
      "m      m\n",
      "m m m  m\n",
      "m  m   m\n",
      "m      m\n",
      "      \n"
     ]
    }
   ],
   "source": [
    "a=1\n",
    "while a<=5:\n",
    "    if a==1:\n",
    "        print(\"m      m\")\n",
    "    elif a==2:\n",
    "        print(\"m m m  m\")\n",
    "    elif a==3:\n",
    "        print(\"m  m   m\")\n",
    "    elif a==4:\n",
    "        print(\"m      m\")\n",
    "    elif a==5:\n",
    "        print(\"      \")\n",
    "    a=a+1\n"
   ]
  },
  {
   "cell_type": "code",
   "execution_count": 63,
   "id": "f63ff8a1",
   "metadata": {},
   "outputs": [
    {
     "name": "stdout",
     "output_type": "stream",
     "text": [
      "\n",
      "\n",
      "\n",
      " *****\n",
      "*      *\n",
      "*      *\n",
      "*      *\n",
      " ***** \n"
     ]
    }
   ],
   "source": [
    "a=1\n",
    "while a<=8:\n",
    "    if a==1:\n",
    "        print(\"\")\n",
    "    elif a==2:\n",
    "        print(\"\")\n",
    "    elif a==3:\n",
    "        print(\"\")\n",
    "    elif a==4:\n",
    "        print(\" *****\")\n",
    "    elif a==5:\n",
    "        print(\"*      *\")\n",
    "    elif a==6:\n",
    "        print(\"*      *\")\n",
    "    elif a==7:\n",
    "        print(\"*      *\")\n",
    "    elif a==8:\n",
    "        print(\" ***** \")\n",
    "    a=a+1"
   ]
  },
  {
   "cell_type": "code",
   "execution_count": 64,
   "id": "9520d9e8",
   "metadata": {},
   "outputs": [
    {
     "name": "stdout",
     "output_type": "stream",
     "text": [
      "p p\n",
      "p    p\n",
      "p     p\n",
      "p    p\n",
      "p p\n",
      "p   \n",
      "p\n"
     ]
    }
   ],
   "source": [
    "a=1\n",
    "while a<=7:\n",
    "    if a==1:\n",
    "        print(\"p p\")\n",
    "    elif a==2:\n",
    "        print(\"p    p\")\n",
    "    elif a==3:\n",
    "        print(\"p     p\")\n",
    "    elif a==4:\n",
    "        print(\"p    p\")\n",
    "    elif a==5:\n",
    "        print(\"p p\")\n",
    "    elif a==6:\n",
    "        print(\"p   \")\n",
    "    elif a==7:\n",
    "        print(\"p\")\n",
    "        \n",
    "    a=a+1\n"
   ]
  },
  {
   "cell_type": "code",
   "execution_count": 65,
   "id": "b73e2180",
   "metadata": {},
   "outputs": [
    {
     "name": "stdout",
     "output_type": "stream",
     "text": [
      "   qqqq \n",
      "q        q\n",
      "q  q     q\n",
      "q    q   q\n",
      "   qqqq  q   \n",
      "          q\n",
      "            q   \n"
     ]
    }
   ],
   "source": [
    "a=1\n",
    "while a<=7:\n",
    "    if a==1:\n",
    "        print(\"   qqqq \")\n",
    "    elif a==2:\n",
    "        print(\"q        q\")\n",
    "    elif a==3:\n",
    "        print(\"q  q     q\")\n",
    "    elif a==4:\n",
    "        print(\"q    q   q\")\n",
    "    elif a==5:\n",
    "        print(\"   qqqq  q   \")\n",
    "    elif a==6:\n",
    "        print(\"          q\")\n",
    "    elif a==7:\n",
    "        print(\"            q   \")\n",
    "        \n",
    "    a=a+1"
   ]
  },
  {
   "cell_type": "code",
   "execution_count": 68,
   "id": "e7b74237",
   "metadata": {},
   "outputs": [
    {
     "name": "stdout",
     "output_type": "stream",
     "text": [
      "*      *\n",
      " *    *\n",
      "    *  \n",
      "   * *   \n",
      "  *   *  \n",
      " *     *   \n",
      "   * *  \n"
     ]
    }
   ],
   "source": [
    "a=1\n",
    "while a<=7:\n",
    "    if a==1:\n",
    "        print(\"*      *\")\n",
    "    elif a==2:\n",
    "        print(\" *    *\")\n",
    "    elif a==3:\n",
    "        print(\"    *  \")\n",
    "    elif a==4:\n",
    "        print(\"   * *   \")\n",
    "    elif a==5:\n",
    "        print(\"  *   *  \")\n",
    "    elif a==6:\n",
    "        print(\" *     *   \")\n",
    "    elif a==7:\n",
    "        print(\"   * *  \")\n",
    "    elif a==8:\n",
    "        print(\"   \")\n",
    "    a=a+1"
   ]
  },
  {
   "cell_type": "code",
   "execution_count": 69,
   "id": "48a3ae51",
   "metadata": {},
   "outputs": [
    {
     "name": "stdout",
     "output_type": "stream",
     "text": [
      "rrrrrrrr  \n",
      "r       \n",
      "rrrrrrrr\n",
      "       r\n",
      "rrrrrrrr\n",
      "\n",
      "\n",
      "\n"
     ]
    }
   ],
   "source": [
    "a=1\n",
    "while a<=8:\n",
    "    if a==1:\n",
    "        print(\"rrrrrrrr  \")\n",
    "    elif a==2:\n",
    "        print(\"r       \")\n",
    "    elif a==3:\n",
    "        print(\"rrrrrrrr\")\n",
    "    elif a==4:\n",
    "        print(\"       r\")\n",
    "    elif a==5:\n",
    "        print(\"rrrrrrrr\")\n",
    "    elif a==6:\n",
    "        print(\"\")\n",
    "    elif a==7:\n",
    "        print(\"\")\n",
    "    elif a==8:\n",
    "        print(\"\")\n",
    "    a=a+1\n",
    "        "
   ]
  },
  {
   "cell_type": "code",
   "execution_count": 70,
   "id": "93db45ec",
   "metadata": {},
   "outputs": [
    {
     "name": "stdout",
     "output_type": "stream",
     "text": [
      "u           u\n",
      "u           u\n",
      "u           u\n",
      "u           u\n",
      " u         u\n",
      "   u   u     u     \n",
      "              u\n",
      "   \n"
     ]
    }
   ],
   "source": [
    "#u\n",
    "a=1\n",
    "while a<=8:\n",
    "    if a==1:\n",
    "        print(\"u           u\")\n",
    "    elif a==2:\n",
    "        print(\"u           u\")\n",
    "    elif a==3:\n",
    "        print(\"u           u\")\n",
    "    elif a==4:\n",
    "        print(\"u           u\")\n",
    "    elif a==5:\n",
    "        print(\" u         u\")\n",
    "    elif a==6:\n",
    "        print(\"   u   u     u     \"         )\n",
    "    elif a==7:\n",
    "        print(\"              u\")\n",
    "    elif a==8:\n",
    "        print(\"   \")\n",
    "    a=a+1\n",
    "   \n"
   ]
  },
  {
   "cell_type": "code",
   "execution_count": 71,
   "id": "9bf77f05",
   "metadata": {},
   "outputs": [
    {
     "name": "stdout",
     "output_type": "stream",
     "text": [
      "v           v\n",
      " v         v\n",
      "  v       v\n",
      "   v     v\n",
      "    v   v\n",
      "      v   \n"
     ]
    }
   ],
   "source": [
    "a=1\n",
    "while a<=6:\n",
    "    if a==1:\n",
    "        print(\"v           v\")\n",
    "    elif a==2:\n",
    "        print(\" v         v\")\n",
    "    elif a==3:\n",
    "        print(\"  v       v\")        \n",
    "    elif a==4:\n",
    "        print(\"   v     v\")\n",
    "    elif a==5:\n",
    "        print(\"    v   v\")\n",
    "    elif a==6:\n",
    "        print(\"      v   \")\n",
    "    \n",
    "    a=a+1\n",
    "   "
   ]
  },
  {
   "cell_type": "code",
   "execution_count": 72,
   "id": "b796ed28",
   "metadata": {},
   "outputs": [
    {
     "name": "stdout",
     "output_type": "stream",
     "text": [
      "w                         w                              \n",
      " w         w   w          w                          \n",
      "  w       w      w       w                      \n",
      "   w     w        w     w                   \n",
      "    w   w          w   w                \n",
      "      w              w      \n"
     ]
    }
   ],
   "source": [
    "a=1\n",
    "while a<=6:\n",
    "    if a==1:\n",
    "        print(\"w                         w                              \")\n",
    "    elif a==2:\n",
    "        print(\" w         w   w          w                          \")\n",
    "    elif a==3:\n",
    "        print(\"  w       w      w       w                      \")        \n",
    "    elif a==4:\n",
    "        print(\"   w     w        w     w                   \")\n",
    "    elif a==5:\n",
    "        print(\"    w   w          w   w                \")\n",
    "    elif a==6:\n",
    "        print(\"      w              w      \")\n",
    "    \n",
    "    a=a+1\n",
    "   "
   ]
  },
  {
   "cell_type": "code",
   "execution_count": 73,
   "id": "1497c07e",
   "metadata": {},
   "outputs": [
    {
     "name": "stdout",
     "output_type": "stream",
     "text": [
      "x            x\n",
      "  x        x\n",
      "    x    x\n",
      "       x   \n",
      "    x    x  \n",
      "  x        x    \n",
      "x            x\n"
     ]
    }
   ],
   "source": [
    "a=1\n",
    "while a<=7:\n",
    "    if a==1:\n",
    "        print(\"x            x\")\n",
    "    elif a==2:\n",
    "        print(\"  x        x\")\n",
    "    elif a==3:\n",
    "        print(\"    x    x\")        \n",
    "    elif a==4:\n",
    "        print(\"       x   \"   )\n",
    "    elif a==5:\n",
    "        print(\"    x    x  \")\n",
    "    elif a==6:\n",
    "        print(\"  x        x    \")\n",
    "    elif a==7:\n",
    "        print(\"x            x\")\n",
    "    \n",
    "    a=a+1\n",
    "   "
   ]
  },
  {
   "cell_type": "code",
   "execution_count": 74,
   "id": "f8a7782f",
   "metadata": {},
   "outputs": [
    {
     "name": "stdout",
     "output_type": "stream",
     "text": [
      "x            x\n",
      "  x        x\n",
      "    x    x\n",
      "       x  \n",
      "    x \n",
      "  x\n",
      "x\n"
     ]
    }
   ],
   "source": [
    "a=1\n",
    "while a<=7:\n",
    "    if a==1:\n",
    "        print(\"x            x\")\n",
    "    elif a==2:\n",
    "        print(\"  x        x\")\n",
    "    elif a==3:\n",
    "        print(\"    x    x\")        \n",
    "    elif a==4:\n",
    "        print(\"       x  \")\n",
    "    elif a==5:\n",
    "        print(\"    x \")   \n",
    "    elif a==6:\n",
    "        print(\"  x\")      \n",
    "    elif a==7:\n",
    "        print(\"x\")         \n",
    "    \n",
    "    a=a+1"
   ]
  },
  {
   "cell_type": "code",
   "execution_count": 75,
   "id": "fbaea0cb",
   "metadata": {},
   "outputs": [
    {
     "name": "stdout",
     "output_type": "stream",
     "text": [
      "z z z z z z\n",
      "        z\n",
      "      z\n",
      "  z  \n",
      "z z z z z z  \n"
     ]
    }
   ],
   "source": [
    "a=1\n",
    "while a<=7:\n",
    "    if a==1:\n",
    "        print(\"z z z z z z\")\n",
    "    elif a==2:\n",
    "        print(\"        z\")\n",
    "    elif a==3:\n",
    "        print(\"      z\")        \n",
    "    elif a==4: \n",
    "        print(\"  z  \")\n",
    "    elif a==5:\n",
    "        print(\"z z z z z z  \")   \n",
    "    \n",
    "    a=a+1"
   ]
  },
  {
   "cell_type": "code",
   "execution_count": null,
   "id": "babe00f9",
   "metadata": {},
   "outputs": [],
   "source": []
  }
 ],
 "metadata": {
  "kernelspec": {
   "display_name": "Python 3 (ipykernel)",
   "language": "python",
   "name": "python3"
  },
  "language_info": {
   "codemirror_mode": {
    "name": "ipython",
    "version": 3
   },
   "file_extension": ".py",
   "mimetype": "text/x-python",
   "name": "python",
   "nbconvert_exporter": "python",
   "pygments_lexer": "ipython3",
   "version": "3.9.13"
  }
 },
 "nbformat": 4,
 "nbformat_minor": 5
}
